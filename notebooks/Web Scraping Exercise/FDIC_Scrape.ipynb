{
  "nbformat": 4,
  "nbformat_minor": 0,
  "metadata": {
    "colab": {
      "provenance": []
    },
    "kernelspec": {
      "name": "python3",
      "display_name": "Python 3"
    },
    "language_info": {
      "name": "python"
    }
  },
  "cells": [
    {
      "cell_type": "code",
      "execution_count": null,
      "metadata": {
        "id": "21GUtMw83Dvi"
      },
      "outputs": [],
      "source": [
        "import pandas"
      ]
    },
    {
      "cell_type": "code",
      "source": [
        "table = pandas.read_html(\"https://www.fdic.gov/resources/resolutions/bank-failures/failed-bank-list/\")"
      ],
      "metadata": {
        "id": "kqJd7E7b3G6k"
      },
      "execution_count": null,
      "outputs": []
    },
    {
      "cell_type": "code",
      "source": [
        "output_table = table[0]"
      ],
      "metadata": {
        "id": "qPY3-QwP3h10"
      },
      "execution_count": null,
      "outputs": []
    },
    {
      "cell_type": "code",
      "source": [
        "output_table.to_csv('failed_banks.csv')"
      ],
      "metadata": {
        "id": "P_mxNvM93n3a"
      },
      "execution_count": null,
      "outputs": []
    }
  ]
}